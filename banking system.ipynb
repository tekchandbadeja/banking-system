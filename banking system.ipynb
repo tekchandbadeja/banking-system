{
 "cells": [
  {
   "cell_type": "code",
   "execution_count": 4,
   "id": "143e18f5",
   "metadata": {},
   "outputs": [],
   "source": [
    "class Bank_datails:\n",
    "    def __init__(self,Bank_name,Branch,Account_no):\n",
    "        self.Bank_name=Bank_name\n",
    "        self.Branch=Branch\n",
    "        self.Account_no=Account_no\n",
    "    def show_bank_details(self):\n",
    "        print(\"Bank Details\")\n",
    "        print(\"Bank Name :\", self.Bank_name)\n",
    "        print(\"Branch :\" ,self.Branch)\n",
    "        print(\"Account Number :\" ,self.Account_no)\n",
    "class User_details(Bank_datails):\n",
    "    def __init__(self,Bank_name,Branch,Account_no,name,age,gender):\n",
    "        super(User_details,self).__init__(Bank_name,Branch,Account_no)\n",
    "        self.name=name\n",
    "        self.age=age\n",
    "        self.gender=gender\n",
    "    def show_user_details(self):\n",
    "        print(\"User Details\")\n",
    "        print(\"Name :\",self.name)\n",
    "        print(\"Age :\",self.age)\n",
    "        print(\"Gender :\",self.gender)\n",
    "class Bank_amount(User_details):\n",
    "    def __init__(self,Bank_name,Branch,Account_no,name,age,gender):\n",
    "        super(Bank_amount,self).__init__(Bank_name,Branch,Account_no,name,age,gender)\n",
    "        self.balance=0\n",
    "    def deposit(self,amount):\n",
    "        self.balance=self.balance+amount\n",
    "        print(f\"now your updated account balance is {self.balance} rs. \")\n",
    "    def withdrawl(self,money):\n",
    "        self.money=money\n",
    "        if self.money>self.balance:\n",
    "            print(f'Insuffiecient balance in your account,your balance is {self.balance} rs.')\n",
    "        else:\n",
    "            self.balance=self.balance-self.money\n",
    "            print(f'your updated account balance is now {self.balance} rs. ')\n",
    "    def view_detail(self):\n",
    "        print('')\n",
    "        self.show_bank_details()\n",
    "        print('')\n",
    "        self.show_user_details()\n",
    "        print('account balance is',self.balance)\n"
   ]
  },
  {
   "cell_type": "code",
   "execution_count": null,
   "id": "27fc02bf",
   "metadata": {},
   "outputs": [],
   "source": []
  }
 ],
 "metadata": {
  "kernelspec": {
   "display_name": "Python 3 (ipykernel)",
   "language": "python",
   "name": "python3"
  },
  "language_info": {
   "codemirror_mode": {
    "name": "ipython",
    "version": 3
   },
   "file_extension": ".py",
   "mimetype": "text/x-python",
   "name": "python",
   "nbconvert_exporter": "python",
   "pygments_lexer": "ipython3",
   "version": "3.9.7"
  }
 },
 "nbformat": 4,
 "nbformat_minor": 5
}
